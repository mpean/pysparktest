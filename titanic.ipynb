{
 "cells": [
  {
   "cell_type": "code",
   "execution_count": 5,
   "metadata": {
    "collapsed": true
   },
   "outputs": [],
   "source": [
    "import findspark"
   ]
  },
  {
   "cell_type": "code",
   "execution_count": 6,
   "metadata": {},
   "outputs": [],
   "source": [
    "findspark.init()"
   ]
  },
  {
   "cell_type": "code",
   "execution_count": 8,
   "metadata": {},
   "outputs": [],
   "source": [
    "import pyspark"
   ]
  },
  {
   "cell_type": "code",
   "execution_count": 11,
   "metadata": {},
   "outputs": [],
   "source": [
    "sc = pyspark.SparkContext()"
   ]
  },
  {
   "cell_type": "code",
   "execution_count": 13,
   "metadata": {},
   "outputs": [],
   "source": [
    "titanic_train = sc.textFile(\"/home/mpean/Documents/formations/cursus-big-data/data-formation-hadoop/data/titanic_train.csv\")"
   ]
  },
  {
   "cell_type": "code",
   "execution_count": 15,
   "metadata": {},
   "outputs": [
    {
     "data": {
      "text/plain": [
       "['PassengerId,Survived,Pclass,Name,Sex,Age,SibSp,Parch,Ticket,Fare,Cabin,Embarked',\n '1,0,3,\"Braund, Mr. Owen Harris\",male,22,1,0,A/5 21171,7.25,-,S',\n '2,1,1,\"Cumings, Mrs. John Bradley (Florence Briggs Thayer)\",female,38,1,0,PC 17599,71.2833,C85,C',\n '3,1,3,\"Heikkinen, Miss. Laina\",female,26,0,0,STON/O2. 3101282,7.925,-,S',\n '4,1,1,\"Futrelle, Mrs. Jacques Heath (Lily May Peel)\",female,35,1,0,113803,53.1,C123,S']"
      ]
     },
     "execution_count": 15,
     "metadata": {},
     "output_type": "execute_result"
    }
   ],
   "source": [
    "titanic_train.take(5)"
   ]
  },
  {
   "cell_type": "code",
   "execution_count": 18,
   "metadata": {},
   "outputs": [
    {
     "data": {
      "text/plain": [
       "892"
      ]
     },
     "execution_count": 18,
     "metadata": {},
     "output_type": "execute_result"
    }
   ],
   "source": [
    "titanic_train.count()"
   ]
  },
  {
   "cell_type": "markdown",
   "metadata": {},
   "source": [
    "suppression de la ligne contenant le nom des champs"
   ]
  },
  {
   "cell_type": "code",
   "execution_count": 21,
   "metadata": {},
   "outputs": [],
   "source": [
    "titanic_train_data = titanic_train.filter(lambda ligne : 'PassengerId,Survived,Pclass,Name,Sex,Age,SibSp,Parch,Ticket,Fare,Cabin,Embarked' not in ligne)"
   ]
  },
  {
   "cell_type": "code",
   "execution_count": 22,
   "metadata": {},
   "outputs": [
    {
     "data": {
      "text/plain": [
       "['1,0,3,\"Braund, Mr. Owen Harris\",male,22,1,0,A/5 21171,7.25,-,S',\n '2,1,1,\"Cumings, Mrs. John Bradley (Florence Briggs Thayer)\",female,38,1,0,PC 17599,71.2833,C85,C',\n '3,1,3,\"Heikkinen, Miss. Laina\",female,26,0,0,STON/O2. 3101282,7.925,-,S',\n '4,1,1,\"Futrelle, Mrs. Jacques Heath (Lily May Peel)\",female,35,1,0,113803,53.1,C123,S',\n '5,0,3,\"Allen, Mr. William Henry\",male,35,0,0,373450,8.05,-,S']"
      ]
     },
     "execution_count": 22,
     "metadata": {},
     "output_type": "execute_result"
    }
   ],
   "source": [
    "titanic_train_data.take(5)"
   ]
  },
  {
   "cell_type": "code",
   "execution_count": 24,
   "metadata": {},
   "outputs": [
    {
     "data": {
      "text/plain": [
       "891"
      ]
     },
     "execution_count": 24,
     "metadata": {},
     "output_type": "execute_result"
    }
   ],
   "source": [
    "titanic_train_data.count()"
   ]
  },
  {
   "cell_type": "code",
   "execution_count": 27,
   "metadata": {},
   "outputs": [
    {
     "data": {
      "text/plain": [
       "[['1,0,3,', 'Braund, Mr. Owen Harris', ',male,22,1,0,A/5 21171,7.25,-,S'],\n ['2,1,1,',\n  'Cumings, Mrs. John Bradley (Florence Briggs Thayer)',\n  ',female,38,1,0,PC 17599,71.2833,C85,C'],\n ['3,1,3,',\n  'Heikkinen, Miss. Laina',\n  ',female,26,0,0,STON/O2. 3101282,7.925,-,S'],\n ['4,1,1,',\n  'Futrelle, Mrs. Jacques Heath (Lily May Peel)',\n  ',female,35,1,0,113803,53.1,C123,S'],\n ['5,0,3,', 'Allen, Mr. William Henry', ',male,35,0,0,373450,8.05,-,S']]"
      ]
     },
     "execution_count": 27,
     "metadata": {},
     "output_type": "execute_result"
    }
   ],
   "source": [
    "ttd = titanic_train_data.map(lambda ligne : ligne.split('\"'))\n",
    "ttd.take(5)"
   ]
  },
  {
   "cell_type": "markdown",
   "metadata": {},
   "source": [
    "\n",
    "on supprime le nom de la personne. Le [:-1] permet de supprimer une virgule en trop. Les champs restants sont : 'PassengerId,Survived,Pclass,Sex,Age,SibSp,Parch,Ticket,Fare,Cabin,Embarked'"
   ]
  },
  {
   "cell_type": "code",
   "execution_count": 28,
   "metadata": {},
   "outputs": [
    {
     "data": {
      "text/plain": [
       "['1,0,3,male,22,1,0,A/5 21171,7.25,-,S',\n '2,1,1,female,38,1,0,PC 17599,71.2833,C85,C',\n '3,1,3,female,26,0,0,STON/O2. 3101282,7.925,-,S',\n '4,1,1,female,35,1,0,113803,53.1,C123,S',\n '5,0,3,male,35,0,0,373450,8.05,-,S',\n '6,0,3,male,-,0,0,330877,8.4583,-,Q',\n '7,0,1,male,54,0,0,17463,51.8625,E46,S',\n '8,0,3,male,2,3,1,349909,21.075,-,S',\n '9,1,3,female,27,0,2,347742,11.1333,-,S',\n '10,1,2,female,14,1,0,237736,30.0708,-,C',\n '11,1,3,female,4,1,1,PP 9549,16.7,G6,S',\n '12,1,1,female,58,0,0,113783,26.55,C103,S',\n '13,0,3,male,20,0,0,A/5. 2151,8.05,-,S',\n '14,0,3,male,39,1,5,347082,31.275,-,S',\n '15,0,3,female,14,0,0,350406,7.8542,-,S']"
      ]
     },
     "execution_count": 28,
     "metadata": {},
     "output_type": "execute_result"
    }
   ],
   "source": [
    "ttd1 = ttd.map(lambda s: s[0][:-1] + s[-1])\n",
    "ttd1.take(15)"
   ]
  },
  {
   "cell_type": "markdown",
   "metadata": {},
   "source": [
    "nombre de survivants"
   ]
  },
  {
   "cell_type": "code",
   "execution_count": 30,
   "metadata": {},
   "outputs": [
    {
     "data": {
      "text/plain": [
       "342"
      ]
     },
     "execution_count": 30,
     "metadata": {},
     "output_type": "execute_result"
    }
   ],
   "source": [
    "survivants = ttd1.map(lambda ligne : ligne.split(',')).filter(lambda person : int(person[1]))\n",
    "survivants.count()"
   ]
  },
  {
   "cell_type": "markdown",
   "metadata": {},
   "source": [
    "nombre d'hommes survivants"
   ]
  },
  {
   "cell_type": "code",
   "execution_count": 32,
   "metadata": {},
   "outputs": [
    {
     "data": {
      "text/plain": [
       "109"
      ]
     },
     "execution_count": 32,
     "metadata": {},
     "output_type": "execute_result"
    }
   ],
   "source": [
    "survivants_hommes = survivants.filter(lambda person : person[3] == 'male')\n",
    "survivants_hommes.count()"
   ]
  },
  {
   "cell_type": "markdown",
   "metadata": {},
   "source": [
    "nombre de femmes survivantes"
   ]
  },
  {
   "cell_type": "code",
   "execution_count": 34,
   "metadata": {},
   "outputs": [
    {
     "data": {
      "text/plain": [
       "233"
      ]
     },
     "execution_count": 34,
     "metadata": {},
     "output_type": "execute_result"
    }
   ],
   "source": [
    "survivants_femmes = survivants.filter(lambda person : person[3] == 'female')\n",
    "survivants_femmes.count()"
   ]
  },
  {
   "cell_type": "markdown",
   "metadata": {},
   "source": [
    "nombre de survivants hommes et femmes"
   ]
  },
  {
   "cell_type": "code",
   "execution_count": 36,
   "metadata": {},
   "outputs": [
    {
     "data": {
      "text/plain": [
       "[('female', 233), ('male', 109)]"
      ]
     },
     "execution_count": 36,
     "metadata": {},
     "output_type": "execute_result"
    }
   ],
   "source": [
    "survivants_genre = survivants.map(lambda person : (person[3], int(1))).reduceByKey(lambda a,b : a+b)\n",
    "survivants_genre.take(5)"
   ]
  },
  {
   "cell_type": "markdown",
   "metadata": {},
   "source": [
    "classement des survivants pas classe"
   ]
  },
  {
   "cell_type": "code",
   "execution_count": 38,
   "metadata": {},
   "outputs": [
    {
     "data": {
      "text/plain": [
       "[('1', 136), ('3', 119), ('2', 87)]"
      ]
     },
     "execution_count": 38,
     "metadata": {},
     "output_type": "execute_result"
    }
   ],
   "source": [
    "survivants_classe = survivants.map(lambda person : (person[2], 1)) \\\n",
    "    .reduceByKey(lambda a,b : a+b) \\\n",
    "    .sortBy(lambda x : x[1], False)\n",
    "survivants_classe.take(5)"
   ]
  },
  {
   "cell_type": "code",
   "execution_count": null,
   "metadata": {},
   "outputs": [],
   "source": [
    ""
   ]
  }
 ],
 "metadata": {
  "kernelspec": {
   "display_name": "Python 2",
   "language": "python",
   "name": "python2"
  },
  "language_info": {
   "codemirror_mode": {
    "name": "ipython",
    "version": 2.0
   },
   "file_extension": ".py",
   "mimetype": "text/x-python",
   "name": "python",
   "nbconvert_exporter": "python",
   "pygments_lexer": "ipython2",
   "version": "2.7.6"
  }
 },
 "nbformat": 4,
 "nbformat_minor": 0
}